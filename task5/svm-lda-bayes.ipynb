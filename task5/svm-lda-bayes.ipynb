{
 "cells": [
  {
   "cell_type": "code",
   "execution_count": 24,
   "metadata": {
    "ExecuteTime": {
     "end_time": "2019-05-20T13:13:01.317111Z",
     "start_time": "2019-05-20T13:13:01.313118Z"
    }
   },
   "outputs": [],
   "source": [
    "import pandas as pd\n",
    "import numpy as np\n",
    "\n"
   ]
  },
  {
   "cell_type": "markdown",
   "metadata": {},
   "source": [
    "## 载入之前清洗好的数据数据"
   ]
  },
  {
   "cell_type": "code",
   "execution_count": 4,
   "metadata": {
    "ExecuteTime": {
     "end_time": "2019-05-20T11:51:38.784833Z",
     "start_time": "2019-05-20T11:51:38.745955Z"
    }
   },
   "outputs": [],
   "source": [
    "train = pd.read_csv('../data/train_clean.csv')"
   ]
  },
  {
   "cell_type": "code",
   "execution_count": 6,
   "metadata": {
    "ExecuteTime": {
     "end_time": "2019-05-20T11:51:48.425759Z",
     "start_time": "2019-05-20T11:51:48.414834Z"
    }
   },
   "outputs": [
    {
     "data": {
      "text/html": [
       "<div>\n",
       "<style scoped>\n",
       "    .dataframe tbody tr th:only-of-type {\n",
       "        vertical-align: middle;\n",
       "    }\n",
       "\n",
       "    .dataframe tbody tr th {\n",
       "        vertical-align: top;\n",
       "    }\n",
       "\n",
       "    .dataframe thead th {\n",
       "        text-align: right;\n",
       "    }\n",
       "</style>\n",
       "<table border=\"1\" class=\"dataframe\">\n",
       "  <thead>\n",
       "    <tr style=\"text-align: right;\">\n",
       "      <th></th>\n",
       "      <th>label</th>\n",
       "      <th>text</th>\n",
       "      <th>token</th>\n",
       "    </tr>\n",
       "  </thead>\n",
       "  <tbody>\n",
       "    <tr>\n",
       "      <th>0</th>\n",
       "      <td>1</td>\n",
       "      <td>sweet united nations video  just in time for c...</td>\n",
       "      <td>['sweet', 'united', 'nation', 'video', 'time',...</td>\n",
       "    </tr>\n",
       "    <tr>\n",
       "      <th>1</th>\n",
       "      <td>1</td>\n",
       "      <td>we are rumored to have talked to erv's agent ...</td>\n",
       "      <td>['rumored', 'talked', 'erv', 'agent', 'angel',...</td>\n",
       "    </tr>\n",
       "    <tr>\n",
       "      <th>2</th>\n",
       "      <td>1</td>\n",
       "      <td>hey there! nice to see you minnesota nd winter...</td>\n",
       "      <td>['hey', 'nice', 'see', 'minnesota', 'nd', 'win...</td>\n",
       "    </tr>\n",
       "    <tr>\n",
       "      <th>3</th>\n",
       "      <td>0</td>\n",
       "      <td>3 episodes left i'm dying over here</td>\n",
       "      <td>['3', 'episode', 'left', 'dying']</td>\n",
       "    </tr>\n",
       "    <tr>\n",
       "      <th>4</th>\n",
       "      <td>1</td>\n",
       "      <td>i can't breathe! was chosen as the most notabl...</td>\n",
       "      <td>['breathe', 'chosen', 'notable', 'quote', 'yea...</td>\n",
       "    </tr>\n",
       "  </tbody>\n",
       "</table>\n",
       "</div>"
      ],
      "text/plain": [
       "  label                                               text  \\\n",
       "0     1  sweet united nations video  just in time for c...   \n",
       "1     1   we are rumored to have talked to erv's agent ...   \n",
       "2     1  hey there! nice to see you minnesota nd winter...   \n",
       "3     0                3 episodes left i'm dying over here   \n",
       "4     1  i can't breathe! was chosen as the most notabl...   \n",
       "\n",
       "                                               token  \n",
       "0  ['sweet', 'united', 'nation', 'video', 'time',...  \n",
       "1  ['rumored', 'talked', 'erv', 'agent', 'angel',...  \n",
       "2  ['hey', 'nice', 'see', 'minnesota', 'nd', 'win...  \n",
       "3                  ['3', 'episode', 'left', 'dying']  \n",
       "4  ['breathe', 'chosen', 'notable', 'quote', 'yea...  "
      ]
     },
     "execution_count": 6,
     "metadata": {},
     "output_type": "execute_result"
    }
   ],
   "source": [
    "train.head()"
   ]
  },
  {
   "cell_type": "markdown",
   "metadata": {},
   "source": [
    "## 划分训练集测试集提取文本特征 "
   ]
  },
  {
   "cell_type": "code",
   "execution_count": 7,
   "metadata": {
    "ExecuteTime": {
     "end_time": "2019-05-20T12:18:27.155269Z",
     "start_time": "2019-05-20T12:18:26.338620Z"
    }
   },
   "outputs": [],
   "source": [
    "from sklearn.model_selection import train_test_split\n",
    "from sklearn.feature_extraction.text import CountVectorizer"
   ]
  },
  {
   "cell_type": "code",
   "execution_count": 10,
   "metadata": {
    "ExecuteTime": {
     "end_time": "2019-05-20T12:25:08.772366Z",
     "start_time": "2019-05-20T12:25:08.556841Z"
    }
   },
   "outputs": [],
   "source": [
    "X_train, X_test, y_train, y_test = train_test_split(train['token'], train['label'], test_size=0.2, random_state=40)\n",
    "\n",
    "vectorizer = CountVectorizer(max_features=5000)\n",
    "vectorizer.fit(X_train, y_train)\n",
    "X_train = vectorizer.transform(X_train)\n",
    "X_test = vectorizer.transform(X_test)"
   ]
  },
  {
   "cell_type": "code",
   "execution_count": 39,
   "metadata": {
    "ExecuteTime": {
     "end_time": "2019-05-20T13:20:13.665811Z",
     "start_time": "2019-05-20T13:20:13.657833Z"
    }
   },
   "outputs": [
    {
     "data": {
      "text/plain": [
       "(<1x5000 sparse matrix of type '<class 'numpy.int64'>'\n",
       " \twith 4 stored elements in Compressed Sparse Row format>,\n",
       " <1x5000 sparse matrix of type '<class 'numpy.int64'>'\n",
       " \twith 9 stored elements in Compressed Sparse Row format>)"
      ]
     },
     "execution_count": 39,
     "metadata": {},
     "output_type": "execute_result"
    }
   ],
   "source": [
    "X_train[6104], X_test[0]"
   ]
  },
  {
   "cell_type": "markdown",
   "metadata": {
    "ExecuteTime": {
     "end_time": "2019-05-20T12:27:16.039900Z",
     "start_time": "2019-05-20T12:27:16.035914Z"
    }
   },
   "source": [
    "## 使用朴素贝叶斯进行构建分类器，朴素贝叶斯理论细节参考博客https://blog.csdn.net/han_xiaoyang/article/details/50616559"
   ]
  },
  {
   "cell_type": "code",
   "execution_count": 18,
   "metadata": {
    "ExecuteTime": {
     "end_time": "2019-05-20T12:32:30.738834Z",
     "start_time": "2019-05-20T12:32:30.720885Z"
    }
   },
   "outputs": [
    {
     "data": {
      "text/plain": [
       "0.7373935821872953"
      ]
     },
     "execution_count": 18,
     "metadata": {},
     "output_type": "execute_result"
    }
   ],
   "source": [
    "from sklearn.naive_bayes import MultinomialNB\n",
    "\n",
    "#载入模型\n",
    "classifier = MultinomialNB()\n",
    "#模型训练\n",
    "classifier.fit(X_train, y_train.tolist())\n",
    "#预测结果\n",
    "classifier.score(X_test, y_test.tolist())"
   ]
  },
  {
   "cell_type": "markdown",
   "metadata": {},
   "source": [
    "## 使用SVM模型进行文本分类，SVM理论细节参考李航的统计学习方法"
   ]
  },
  {
   "cell_type": "code",
   "execution_count": 21,
   "metadata": {
    "ExecuteTime": {
     "end_time": "2019-05-20T12:39:39.655327Z",
     "start_time": "2019-05-20T12:39:34.419286Z"
    }
   },
   "outputs": [
    {
     "data": {
      "text/plain": [
       "0.4865749836280288"
      ]
     },
     "execution_count": 21,
     "metadata": {},
     "output_type": "execute_result"
    }
   ],
   "source": [
    "from sklearn.svm import SVC\n",
    "from sklearn.metrics import accuracy_score\n",
    "\n",
    "clf = SVC()\n",
    "clf.fit(X_train, y_train.tolist())\n",
    "accuracy_score(clf.predict(X_test), y_test.tolist())"
   ]
  },
  {
   "cell_type": "markdown",
   "metadata": {},
   "source": [
    "## 加入LDA特征"
   ]
  },
  {
   "cell_type": "code",
   "execution_count": 23,
   "metadata": {
    "ExecuteTime": {
     "end_time": "2019-05-20T13:12:17.954670Z",
     "start_time": "2019-05-20T13:11:35.825182Z"
    }
   },
   "outputs": [
    {
     "name": "stderr",
     "output_type": "stream",
     "text": [
      "C:\\Anaconda\\lib\\site-packages\\sklearn\\decomposition\\online_lda.py:294: DeprecationWarning: n_topics has been renamed to n_components in version 0.19 and will be removed in 0.21\n",
      "  DeprecationWarning)\n"
     ]
    }
   ],
   "source": [
    "from sklearn.decomposition import LatentDirichletAllocation \n",
    "lda = LatentDirichletAllocation(n_components=30, \n",
    "                                max_iter=50,\n",
    "                                learning_method='batch')\n",
    "train_lda = lda.fit_transform(X_train)\n",
    "test_lda = lda.transform(X_test)"
   ]
  },
  {
   "cell_type": "code",
   "execution_count": 33,
   "metadata": {
    "ExecuteTime": {
     "end_time": "2019-05-20T13:18:04.154701Z",
     "start_time": "2019-05-20T13:18:04.147728Z"
    }
   },
   "outputs": [
    {
     "data": {
      "text/plain": [
       "(array([0.00416667, 0.00416667, 0.00416667, 0.00416667, 0.00416667,\n",
       "        0.00416667, 0.00416667, 0.00416667, 0.00416667, 0.00416667,\n",
       "        0.00416667, 0.00416667, 0.00416667, 0.00416667, 0.00416667,\n",
       "        0.00416667, 0.00416667, 0.00416667, 0.00416667, 0.87916667,\n",
       "        0.00416667, 0.00416667, 0.00416667, 0.00416667, 0.00416667,\n",
       "        0.00416667, 0.00416667, 0.00416667, 0.00416667, 0.00416667]),\n",
       " array([0.00333333, 0.00333333, 0.00333333, 0.00333333, 0.00333333,\n",
       "        0.00333333, 0.00333333, 0.00333333, 0.00333333, 0.00333333,\n",
       "        0.00333333, 0.00333333, 0.00333333, 0.00333333, 0.00333333,\n",
       "        0.00333333, 0.00333333, 0.00333333, 0.00333333, 0.00333333,\n",
       "        0.00333333, 0.00333333, 0.00333333, 0.00333333, 0.00333333,\n",
       "        0.00333333, 0.00333333, 0.90333333, 0.00333333, 0.00333333]),\n",
       " 6105)"
      ]
     },
     "execution_count": 33,
     "metadata": {},
     "output_type": "execute_result"
    }
   ],
   "source": [
    "train_lda[0], test_lda[0], len(train_lda)"
   ]
  },
  {
   "cell_type": "code",
   "execution_count": 40,
   "metadata": {
    "ExecuteTime": {
     "end_time": "2019-05-20T13:20:56.923398Z",
     "start_time": "2019-05-20T13:20:56.917414Z"
    }
   },
   "outputs": [
    {
     "data": {
      "text/plain": [
       "array(<1x5000 sparse matrix of type '<class 'numpy.int64'>'\n",
       "\twith 7 stored elements in Compressed Sparse Row format>, dtype=object)"
      ]
     },
     "execution_count": 40,
     "metadata": {},
     "output_type": "execute_result"
    }
   ],
   "source": [
    "np.array(X_train[0])"
   ]
  },
  {
   "cell_type": "code",
   "execution_count": 31,
   "metadata": {
    "ExecuteTime": {
     "end_time": "2019-05-20T13:16:51.599462Z",
     "start_time": "2019-05-20T13:16:51.582505Z"
    }
   },
   "outputs": [
    {
     "ename": "ValueError",
     "evalue": "all the input array dimensions except for the concatenation axis must match exactly",
     "output_type": "error",
     "traceback": [
      "\u001b[1;31m---------------------------------------------------------------------------\u001b[0m",
      "\u001b[1;31mValueError\u001b[0m                                Traceback (most recent call last)",
      "\u001b[1;32m<ipython-input-31-e225071fafce>\u001b[0m in \u001b[0;36m<module>\u001b[1;34m()\u001b[0m\n\u001b[1;32m----> 1\u001b[1;33m \u001b[0mX_train\u001b[0m \u001b[1;33m=\u001b[0m \u001b[0mnp\u001b[0m\u001b[1;33m.\u001b[0m\u001b[0mvstack\u001b[0m\u001b[1;33m(\u001b[0m\u001b[1;33m(\u001b[0m\u001b[0mnp\u001b[0m\u001b[1;33m.\u001b[0m\u001b[0marray\u001b[0m\u001b[1;33m(\u001b[0m\u001b[0mX_train\u001b[0m\u001b[1;33m)\u001b[0m\u001b[1;33m,\u001b[0m \u001b[0mnp\u001b[0m\u001b[1;33m.\u001b[0m\u001b[0marray\u001b[0m\u001b[1;33m(\u001b[0m\u001b[0mtrain_lda\u001b[0m\u001b[1;33m)\u001b[0m\u001b[1;33m)\u001b[0m\u001b[1;33m)\u001b[0m\u001b[1;33m\u001b[0m\u001b[0m\n\u001b[0m\u001b[0;32m      2\u001b[0m \u001b[1;31m# X_test = np.hstack((X_test, test_lda))\u001b[0m\u001b[1;33m\u001b[0m\u001b[1;33m\u001b[0m\u001b[0m\n",
      "\u001b[1;32mC:\\Anaconda\\lib\\site-packages\\numpy\\core\\shape_base.py\u001b[0m in \u001b[0;36mvstack\u001b[1;34m(tup)\u001b[0m\n\u001b[0;32m    281\u001b[0m     \"\"\"\n\u001b[0;32m    282\u001b[0m     \u001b[0m_warn_for_nonsequence\u001b[0m\u001b[1;33m(\u001b[0m\u001b[0mtup\u001b[0m\u001b[1;33m)\u001b[0m\u001b[1;33m\u001b[0m\u001b[0m\n\u001b[1;32m--> 283\u001b[1;33m     \u001b[1;32mreturn\u001b[0m \u001b[0m_nx\u001b[0m\u001b[1;33m.\u001b[0m\u001b[0mconcatenate\u001b[0m\u001b[1;33m(\u001b[0m\u001b[1;33m[\u001b[0m\u001b[0matleast_2d\u001b[0m\u001b[1;33m(\u001b[0m\u001b[0m_m\u001b[0m\u001b[1;33m)\u001b[0m \u001b[1;32mfor\u001b[0m \u001b[0m_m\u001b[0m \u001b[1;32min\u001b[0m \u001b[0mtup\u001b[0m\u001b[1;33m]\u001b[0m\u001b[1;33m,\u001b[0m \u001b[1;36m0\u001b[0m\u001b[1;33m)\u001b[0m\u001b[1;33m\u001b[0m\u001b[0m\n\u001b[0m\u001b[0;32m    284\u001b[0m \u001b[1;33m\u001b[0m\u001b[0m\n\u001b[0;32m    285\u001b[0m \u001b[1;33m\u001b[0m\u001b[0m\n",
      "\u001b[1;31mValueError\u001b[0m: all the input array dimensions except for the concatenation axis must match exactly"
     ]
    }
   ],
   "source": [
    "X_train = np.vstack((np.array(X_train), np.array(train_lda)))\n",
    "# X_test = np.hstack((X_test, test_lda))"
   ]
  }
 ],
 "metadata": {
  "kernelspec": {
   "display_name": "Python 3",
   "language": "python",
   "name": "python3"
  },
  "language_info": {
   "codemirror_mode": {
    "name": "ipython",
    "version": 3
   },
   "file_extension": ".py",
   "mimetype": "text/x-python",
   "name": "python",
   "nbconvert_exporter": "python",
   "pygments_lexer": "ipython3",
   "version": "3.7.0"
  },
  "toc": {
   "base_numbering": 1,
   "nav_menu": {},
   "number_sections": true,
   "sideBar": true,
   "skip_h1_title": false,
   "title_cell": "Table of Contents",
   "title_sidebar": "Contents",
   "toc_cell": false,
   "toc_position": {},
   "toc_section_display": true,
   "toc_window_display": false
  }
 },
 "nbformat": 4,
 "nbformat_minor": 2
}
