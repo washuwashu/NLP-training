{
 "cells": [
  {
   "cell_type": "markdown",
   "metadata": {},
   "source": [
    "RNN，LSTM,GRU 等基础知识参考https://github.com/fengdu78/deeplearning_ai_books"
   ]
  },
  {
   "cell_type": "markdown",
   "metadata": {},
   "source": [
    "pytorch 实现RNN基础模型"
   ]
  },
  {
   "cell_type": "code",
   "execution_count": 3,
   "metadata": {
    "ExecuteTime": {
     "end_time": "2019-05-26T13:06:38.041144Z",
     "start_time": "2019-05-26T13:06:38.023192Z"
    }
   },
   "outputs": [
    {
     "ename": "IndentationError",
     "evalue": "expected an indented block (<ipython-input-3-6ccc08cdedf7>, line 9)",
     "output_type": "error",
     "traceback": [
      "\u001b[1;36m  File \u001b[1;32m\"<ipython-input-3-6ccc08cdedf7>\"\u001b[1;36m, line \u001b[1;32m9\u001b[0m\n\u001b[1;33m    def __init__(self, vocab_size, embed_size, num_output, rnn_model='LSTM', use_last=True,\u001b[0m\n\u001b[1;37m      ^\u001b[0m\n\u001b[1;31mIndentationError\u001b[0m\u001b[1;31m:\u001b[0m expected an indented block\n"
     ]
    }
   ],
   "source": [
    "    \n",
    "import torch\n",
    "import torch.nn as nn\n",
    "from torch.nn.utils.rnn import pack_padded_sequence, pad_packed_sequence\n",
    "\n",
    "\n",
    "class RNN(nn.Module):\n",
    "\n",
    "    def __init__(self, vocab_size, embed_size, num_output, rnn_model='LSTM', use_last=True, \n",
    "                 embedding_tensor=None, padding_index=0, hidden_size=64, num_layers=1, batch_first=True):\n",
    "        \"\"\"\n",
    "        Args:\n",
    "            vocab_size: vocab size\n",
    "            embed_size: embedding size\n",
    "            num_output: number of output (classes)\n",
    "            rnn_model:  LSTM or GRU\n",
    "            use_last:  bool\n",
    "            embedding_tensor:\n",
    "            padding_index:\n",
    "            hidden_size: hidden size of rnn module\n",
    "            num_layers:  number of layers in rnn module\n",
    "            batch_first: batch first option\n",
    "        \"\"\"\n",
    "\n",
    "        super(RNN, self).__init__()\n",
    "        self.use_last = use_last\n",
    "        # embedding\n",
    "        self.encoder = None\n",
    "        if torch.is_tensor(embedding_tensor):\n",
    "            self.encoder = nn.Embedding(vocab_size, embed_size, padding_idx=padding_index, _weight=embedding_tensor)\n",
    "            self.encoder.weight.requires_grad = False\n",
    "        else:\n",
    "            self.encoder = nn.Embedding(vocab_size, embed_size, padding_idx=padding_index)\n",
    "\n",
    "        self.drop_en = nn.Dropout(p=0.6)\n",
    "\n",
    "        # rnn module\n",
    "        if rnn_model == 'LSTM':\n",
    "            self.rnn = nn.LSTM( input_size=embed_size, hidden_size=hidden_size, num_layers=num_layers, dropout=0.5,\n",
    "                                batch_first=True, bidirectional=True)\n",
    "        elif rnn_model == 'GRU':\n",
    "            self.rnn = nn.GRU( input_size=embed_size, hidden_size=hidden_size, num_layers=num_layers, dropout=0.5,\n",
    "                                batch_first=True, bidirectional=True)\n",
    "        else:\n",
    "            raise LookupError(' only support LSTM and GRU')\n",
    "\n",
    "\n",
    "        self.bn2 = nn.BatchNorm1d(hidden_size*2)\n",
    "        self.fc = nn.Linear(hidden_size*2, num_output)\n",
    "\n",
    "    def forward(self, x, seq_lengths):\n",
    "        '''\n",
    "        Args:\n",
    "            x: (batch, time_step, input_size)\n",
    "        Returns:\n",
    "            num_output size\n",
    "        '''\n",
    "\n",
    "        x_embed = self.encoder(x)\n",
    "        x_embed = self.drop_en(x_embed)\n",
    "        packed_input = pack_padded_sequence(x_embed, seq_lengths.cpu().numpy(),batch_first=True)\n",
    "\n",
    "        # r_out shape (batch, time_step, output_size)\n",
    "        # None is for initial hidden state\n",
    "        packed_output, ht = self.rnn(packed_input, None)\n",
    "        out_rnn, _ = pad_packed_sequence(packed_output, batch_first=True)\n",
    "\n",
    "        row_indices = torch.arange(0, x.size(0)).long()\n",
    "        col_indices = seq_lengths - 1\n",
    "        if next(self.parameters()).is_cuda:\n",
    "            row_indices = row_indices.cuda()\n",
    "            col_indices = col_indices.cuda()\n",
    "\n",
    "        if self.use_last:\n",
    "            last_tensor=out_rnn[row_indices, col_indices, :]\n",
    "        else:\n",
    "            # use mean\n",
    "            last_tensor = out_rnn[row_indices, :, :]\n",
    "            last_tensor = torch.mean(last_tensor, dim=1)\n",
    "\n",
    "        fc_input = self.bn2(last_tensor)\n",
    "        out = self.fc(fc_input)\n",
    "        return out"
   ]
  },
  {
   "cell_type": "code",
   "execution_count": null,
   "metadata": {},
   "outputs": [],
   "source": []
  }
 ],
 "metadata": {
  "kernelspec": {
   "display_name": "Python 3",
   "language": "python",
   "name": "python3"
  },
  "language_info": {
   "codemirror_mode": {
    "name": "ipython",
    "version": 3
   },
   "file_extension": ".py",
   "mimetype": "text/x-python",
   "name": "python",
   "nbconvert_exporter": "python",
   "pygments_lexer": "ipython3",
   "version": "3.7.0"
  },
  "toc": {
   "base_numbering": 1,
   "nav_menu": {},
   "number_sections": true,
   "sideBar": true,
   "skip_h1_title": false,
   "title_cell": "Table of Contents",
   "title_sidebar": "Contents",
   "toc_cell": false,
   "toc_position": {},
   "toc_section_display": true,
   "toc_window_display": false
  }
 },
 "nbformat": 4,
 "nbformat_minor": 2
}
