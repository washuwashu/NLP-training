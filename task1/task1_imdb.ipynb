{
 "cells": [
  {
   "cell_type": "code",
   "execution_count": 1,
   "metadata": {
    "ExecuteTime": {
     "end_time": "2019-05-12T12:29:50.185799Z",
     "start_time": "2019-05-12T12:29:45.190128Z"
    }
   },
   "outputs": [
    {
     "name": "stdout",
     "output_type": "stream",
     "text": [
      "1.13.1\n"
     ]
    }
   ],
   "source": [
    "from __future__ import absolute_import, division, print_function\n",
    "\n",
    "import tensorflow as tf\n",
    "from tensorflow import keras\n",
    "\n",
    "import numpy as np\n",
    "\n",
    "print(tf.__version__)"
   ]
  },
  {
   "cell_type": "code",
   "execution_count": 2,
   "metadata": {
    "ExecuteTime": {
     "end_time": "2019-05-12T12:31:22.550658Z",
     "start_time": "2019-05-12T12:30:52.543111Z"
    }
   },
   "outputs": [
    {
     "name": "stdout",
     "output_type": "stream",
     "text": [
      "Downloading data from https://storage.googleapis.com/tensorflow/tf-keras-datasets/imdb.npz\n",
      "17465344/17464789 [==============================] - 22s 1us/step\n"
     ]
    }
   ],
   "source": [
    "imdb = keras.datasets.imdb\n",
    "#提取前10000个高频词\n",
    "(train_data, train_labels), (test_data, test_labels) = imdb.load_data(num_words=10000)"
   ]
  },
  {
   "cell_type": "code",
   "execution_count": 3,
   "metadata": {
    "ExecuteTime": {
     "end_time": "2019-05-12T12:32:20.393587Z",
     "start_time": "2019-05-12T12:32:20.389597Z"
    }
   },
   "outputs": [
    {
     "name": "stdout",
     "output_type": "stream",
     "text": [
      "Training entries: 25000, labels: 25000\n"
     ]
    }
   ],
   "source": [
    "#无缺失数据\n",
    "print(\"Training entries: {}, labels: {}\".format(len(train_data), len(train_labels)))"
   ]
  },
  {
   "cell_type": "code",
   "execution_count": 4,
   "metadata": {
    "ExecuteTime": {
     "end_time": "2019-05-12T12:32:43.897477Z",
     "start_time": "2019-05-12T12:32:43.892518Z"
    }
   },
   "outputs": [
    {
     "name": "stdout",
     "output_type": "stream",
     "text": [
      "[1, 14, 22, 16, 43, 530, 973, 1622, 1385, 65, 458, 4468, 66, 3941, 4, 173, 36, 256, 5, 25, 100, 43, 838, 112, 50, 670, 2, 9, 35, 480, 284, 5, 150, 4, 172, 112, 167, 2, 336, 385, 39, 4, 172, 4536, 1111, 17, 546, 38, 13, 447, 4, 192, 50, 16, 6, 147, 2025, 19, 14, 22, 4, 1920, 4613, 469, 4, 22, 71, 87, 12, 16, 43, 530, 38, 76, 15, 13, 1247, 4, 22, 17, 515, 17, 12, 16, 626, 18, 2, 5, 62, 386, 12, 8, 316, 8, 106, 5, 4, 2223, 5244, 16, 480, 66, 3785, 33, 4, 130, 12, 16, 38, 619, 5, 25, 124, 51, 36, 135, 48, 25, 1415, 33, 6, 22, 12, 215, 28, 77, 52, 5, 14, 407, 16, 82, 2, 8, 4, 107, 117, 5952, 15, 256, 4, 2, 7, 3766, 5, 723, 36, 71, 43, 530, 476, 26, 400, 317, 46, 7, 4, 2, 1029, 13, 104, 88, 4, 381, 15, 297, 98, 32, 2071, 56, 26, 141, 6, 194, 7486, 18, 4, 226, 22, 21, 134, 476, 26, 480, 5, 144, 30, 5535, 18, 51, 36, 28, 224, 92, 25, 104, 4, 226, 65, 16, 38, 1334, 88, 12, 16, 283, 5, 16, 4472, 113, 103, 32, 15, 16, 5345, 19, 178, 32]\n"
     ]
    }
   ],
   "source": [
    "#训练数据已经转化为整型\n",
    "print(train_data[0])"
   ]
  },
  {
   "cell_type": "code",
   "execution_count": 6,
   "metadata": {
    "ExecuteTime": {
     "end_time": "2019-05-12T12:34:54.489478Z",
     "start_time": "2019-05-12T12:34:54.483496Z"
    }
   },
   "outputs": [
    {
     "data": {
      "text/plain": [
       "(218, 189)"
      ]
     },
     "execution_count": 6,
     "metadata": {},
     "output_type": "execute_result"
    }
   ],
   "source": [
    "#不同评论的长度是不同的\n",
    "len(train_data[0]), len(train_data[1])"
   ]
  },
  {
   "cell_type": "code",
   "execution_count": 7,
   "metadata": {
    "ExecuteTime": {
     "end_time": "2019-05-12T12:36:40.645318Z",
     "start_time": "2019-05-12T12:36:33.389954Z"
    }
   },
   "outputs": [
    {
     "name": "stdout",
     "output_type": "stream",
     "text": [
      "Downloading data from https://storage.googleapis.com/tensorflow/tf-keras-datasets/imdb_word_index.json\n",
      "1646592/1641221 [==============================] - 5s 3us/step\n"
     ]
    }
   ],
   "source": [
    "# 词典与整型之间的转化表\n",
    "word_index = imdb.get_word_index()\n",
    "\n",
    "# The first indices are reserved\n",
    "word_index = {k:(v+3) for k,v in word_index.items()} \n",
    "word_index[\"<PAD>\"] = 0\n",
    "word_index[\"<START>\"] = 1\n",
    "word_index[\"<UNK>\"] = 2  # unknown\n",
    "word_index[\"<UNUSED>\"] = 3\n",
    "\n",
    "reverse_word_index = dict([(value, key) for (key, value) in word_index.items()])\n",
    "\n",
    "def decode_review(text):\n",
    "    return ' '.join([reverse_word_index.get(i, '?') for i in text])"
   ]
  },
  {
   "cell_type": "code",
   "execution_count": 8,
   "metadata": {
    "ExecuteTime": {
     "end_time": "2019-05-12T12:36:59.643329Z",
     "start_time": "2019-05-12T12:36:59.637319Z"
    }
   },
   "outputs": [
    {
     "data": {
      "text/plain": [
       "\"<START> this film was just brilliant casting location scenery story direction everyone's really suited the part they played and you could just imagine being there robert <UNK> is an amazing actor and now the same being director <UNK> father came from the same scottish island as myself so i loved the fact there was a real connection with this film the witty remarks throughout the film were great it was just brilliant so much that i bought the film as soon as it was released for <UNK> and would recommend it to everyone to watch and the fly fishing was amazing really cried at the end it was so sad and you know what they say if you cry at a film it must have been good and this definitely was also <UNK> to the two little boy's that played the <UNK> of norman and paul they were just brilliant children are often left out of the <UNK> list i think because the stars that play them all grown up are such a big profile for the whole film but these children are amazing and should be praised for what they have done don't you think the whole story was so lovely because it was true and was someone's life after all that was shared with us all\""
      ]
     },
     "execution_count": 8,
     "metadata": {},
     "output_type": "execute_result"
    }
   ],
   "source": [
    "#查看第一个样本评论\n",
    "decode_review(train_data[0])"
   ]
  },
  {
   "cell_type": "markdown",
   "metadata": {},
   "source": [
    "准备数据"
   ]
  },
  {
   "cell_type": "code",
   "execution_count": 9,
   "metadata": {
    "ExecuteTime": {
     "end_time": "2019-05-12T12:39:06.598458Z",
     "start_time": "2019-05-12T12:39:05.294814Z"
    }
   },
   "outputs": [],
   "source": [
    "#将训练和测试数据用PAD填充到256长度\n",
    "train_data = keras.preprocessing.sequence.pad_sequences(train_data,\n",
    "                                                        value=word_index[\"<PAD>\"],\n",
    "                                                        padding='post',\n",
    "                                                        maxlen=256)\n",
    "\n",
    "test_data = keras.preprocessing.sequence.pad_sequences(test_data,\n",
    "                                                       value=word_index[\"<PAD>\"],\n",
    "                                                       padding='post',\n",
    "                                                       maxlen=256)"
   ]
  },
  {
   "cell_type": "code",
   "execution_count": 10,
   "metadata": {
    "ExecuteTime": {
     "end_time": "2019-05-12T12:39:41.563922Z",
     "start_time": "2019-05-12T12:39:41.556940Z"
    }
   },
   "outputs": [
    {
     "data": {
      "text/plain": [
       "(256, 256)"
      ]
     },
     "execution_count": 10,
     "metadata": {},
     "output_type": "execute_result"
    }
   ],
   "source": [
    "len(train_data[0]), len(train_data[1])"
   ]
  },
  {
   "cell_type": "code",
   "execution_count": 11,
   "metadata": {
    "ExecuteTime": {
     "end_time": "2019-05-12T12:40:11.916137Z",
     "start_time": "2019-05-12T12:40:11.903174Z"
    }
   },
   "outputs": [
    {
     "name": "stdout",
     "output_type": "stream",
     "text": [
      "[   1   14   22   16   43  530  973 1622 1385   65  458 4468   66 3941\n",
      "    4  173   36  256    5   25  100   43  838  112   50  670    2    9\n",
      "   35  480  284    5  150    4  172  112  167    2  336  385   39    4\n",
      "  172 4536 1111   17  546   38   13  447    4  192   50   16    6  147\n",
      " 2025   19   14   22    4 1920 4613  469    4   22   71   87   12   16\n",
      "   43  530   38   76   15   13 1247    4   22   17  515   17   12   16\n",
      "  626   18    2    5   62  386   12    8  316    8  106    5    4 2223\n",
      " 5244   16  480   66 3785   33    4  130   12   16   38  619    5   25\n",
      "  124   51   36  135   48   25 1415   33    6   22   12  215   28   77\n",
      "   52    5   14  407   16   82    2    8    4  107  117 5952   15  256\n",
      "    4    2    7 3766    5  723   36   71   43  530  476   26  400  317\n",
      "   46    7    4    2 1029   13  104   88    4  381   15  297   98   32\n",
      " 2071   56   26  141    6  194 7486   18    4  226   22   21  134  476\n",
      "   26  480    5  144   30 5535   18   51   36   28  224   92   25  104\n",
      "    4  226   65   16   38 1334   88   12   16  283    5   16 4472  113\n",
      "  103   32   15   16 5345   19  178   32    0    0    0    0    0    0\n",
      "    0    0    0    0    0    0    0    0    0    0    0    0    0    0\n",
      "    0    0    0    0    0    0    0    0    0    0    0    0    0    0\n",
      "    0    0    0    0]\n"
     ]
    }
   ],
   "source": [
    "#小于256的样本填充PAD，也即0\n",
    "print(train_data[0])"
   ]
  },
  {
   "cell_type": "markdown",
   "metadata": {},
   "source": [
    "建模"
   ]
  },
  {
   "cell_type": "code",
   "execution_count": 12,
   "metadata": {
    "ExecuteTime": {
     "end_time": "2019-05-12T12:40:46.398819Z",
     "start_time": "2019-05-12T12:40:46.277143Z"
    }
   },
   "outputs": [
    {
     "name": "stdout",
     "output_type": "stream",
     "text": [
      "WARNING:tensorflow:From C:\\Anaconda\\envs\\DL-gpu\\lib\\site-packages\\tensorflow\\python\\ops\\resource_variable_ops.py:435: colocate_with (from tensorflow.python.framework.ops) is deprecated and will be removed in a future version.\n",
      "Instructions for updating:\n",
      "Colocations handled automatically by placer.\n",
      "_________________________________________________________________\n",
      "Layer (type)                 Output Shape              Param #   \n",
      "=================================================================\n",
      "embedding (Embedding)        (None, None, 16)          160000    \n",
      "_________________________________________________________________\n",
      "global_average_pooling1d (Gl (None, 16)                0         \n",
      "_________________________________________________________________\n",
      "dense (Dense)                (None, 16)                272       \n",
      "_________________________________________________________________\n",
      "dense_1 (Dense)              (None, 1)                 17        \n",
      "=================================================================\n",
      "Total params: 160,289\n",
      "Trainable params: 160,289\n",
      "Non-trainable params: 0\n",
      "_________________________________________________________________\n"
     ]
    }
   ],
   "source": [
    "vocab_size = 10000\n",
    "\n",
    "model = keras.Sequential()\n",
    "#先通过embedding层转化为词向量\n",
    "model.add(keras.layers.Embedding(vocab_size, 16))\n",
    "model.add(keras.layers.GlobalAveragePooling1D())\n",
    "#全连接层\n",
    "model.add(keras.layers.Dense(16, activation=tf.nn.relu))\n",
    "#softmax层\n",
    "model.add(keras.layers.Dense(1, activation=tf.nn.sigmoid))\n",
    "\n",
    "model.summary()"
   ]
  },
  {
   "cell_type": "code",
   "execution_count": 13,
   "metadata": {
    "ExecuteTime": {
     "end_time": "2019-05-12T12:45:35.248033Z",
     "start_time": "2019-05-12T12:45:35.107280Z"
    }
   },
   "outputs": [],
   "source": [
    "#建立交叉熵损失，adam优化方法，评价函数为accuracy\n",
    "model.compile(optimizer='adam',\n",
    "              loss='binary_crossentropy',\n",
    "              metrics=['acc'])"
   ]
  },
  {
   "cell_type": "code",
   "execution_count": 14,
   "metadata": {
    "ExecuteTime": {
     "end_time": "2019-05-12T12:46:03.805714Z",
     "start_time": "2019-05-12T12:46:03.801705Z"
    }
   },
   "outputs": [],
   "source": [
    "#创建验证集便于调参和迭代停止\n",
    "x_val = train_data[:10000]\n",
    "partial_x_train = train_data[10000:]\n",
    "\n",
    "y_val = train_labels[:10000]\n",
    "partial_y_train = train_labels[10000:]"
   ]
  },
  {
   "cell_type": "code",
   "execution_count": 15,
   "metadata": {
    "ExecuteTime": {
     "end_time": "2019-05-12T12:46:45.623672Z",
     "start_time": "2019-05-12T12:46:10.809444Z"
    }
   },
   "outputs": [
    {
     "name": "stdout",
     "output_type": "stream",
     "text": [
      "Train on 15000 samples, validate on 10000 samples\n",
      "WARNING:tensorflow:From C:\\Anaconda\\envs\\DL-gpu\\lib\\site-packages\\tensorflow\\python\\ops\\math_ops.py:3066: to_int32 (from tensorflow.python.ops.math_ops) is deprecated and will be removed in a future version.\n",
      "Instructions for updating:\n",
      "Use tf.cast instead.\n",
      "Epoch 1/40\n",
      "15000/15000 [==============================] - 1s 78us/sample - loss: 0.6918 - acc: 0.6432 - val_loss: 0.6897 - val_acc: 0.7108\n",
      "Epoch 2/40\n",
      "15000/15000 [==============================] - 1s 58us/sample - loss: 0.6857 - acc: 0.7162 - val_loss: 0.6810 - val_acc: 0.7450\n",
      "Epoch 3/40\n",
      "15000/15000 [==============================] - 1s 59us/sample - loss: 0.6721 - acc: 0.7511 - val_loss: 0.6639 - val_acc: 0.7471\n",
      "Epoch 4/40\n",
      "15000/15000 [==============================] - 1s 58us/sample - loss: 0.6486 - acc: 0.7683 - val_loss: 0.6372 - val_acc: 0.7488\n",
      "Epoch 5/40\n",
      "15000/15000 [==============================] - 1s 55us/sample - loss: 0.6144 - acc: 0.7886 - val_loss: 0.6015 - val_acc: 0.7815\n",
      "Epoch 6/40\n",
      "15000/15000 [==============================] - 1s 58us/sample - loss: 0.5714 - acc: 0.8117 - val_loss: 0.5603 - val_acc: 0.8044\n",
      "Epoch 7/40\n",
      "15000/15000 [==============================] - 1s 59us/sample - loss: 0.5237 - acc: 0.8293 - val_loss: 0.5157 - val_acc: 0.8185\n",
      "Epoch 8/40\n",
      "15000/15000 [==============================] - 1s 54us/sample - loss: 0.4762 - acc: 0.8459 - val_loss: 0.4748 - val_acc: 0.8336\n",
      "Epoch 9/40\n",
      "15000/15000 [==============================] - 1s 55us/sample - loss: 0.4323 - acc: 0.8607 - val_loss: 0.4382 - val_acc: 0.8438\n",
      "Epoch 10/40\n",
      "15000/15000 [==============================] - 1s 56us/sample - loss: 0.3937 - acc: 0.8733 - val_loss: 0.4082 - val_acc: 0.8507\n",
      "Epoch 11/40\n",
      "15000/15000 [==============================] - 1s 55us/sample - loss: 0.3611 - acc: 0.8811 - val_loss: 0.3835 - val_acc: 0.8588\n",
      "Epoch 12/40\n",
      "15000/15000 [==============================] - 1s 57us/sample - loss: 0.3338 - acc: 0.8894 - val_loss: 0.3643 - val_acc: 0.8614\n",
      "Epoch 13/40\n",
      "15000/15000 [==============================] - 1s 53us/sample - loss: 0.3114 - acc: 0.8956 - val_loss: 0.3476 - val_acc: 0.8681\n",
      "Epoch 14/40\n",
      "15000/15000 [==============================] - 1s 54us/sample - loss: 0.2910 - acc: 0.9009 - val_loss: 0.3350 - val_acc: 0.8726\n",
      "Epoch 15/40\n",
      "15000/15000 [==============================] - 1s 57us/sample - loss: 0.2736 - acc: 0.9050 - val_loss: 0.3247 - val_acc: 0.8746\n",
      "Epoch 16/40\n",
      "15000/15000 [==============================] - 1s 56us/sample - loss: 0.2579 - acc: 0.9101 - val_loss: 0.3159 - val_acc: 0.8748\n",
      "Epoch 17/40\n",
      "15000/15000 [==============================] - 1s 58us/sample - loss: 0.2434 - acc: 0.9151 - val_loss: 0.3087 - val_acc: 0.8776\n",
      "Epoch 18/40\n",
      "15000/15000 [==============================] - 1s 56us/sample - loss: 0.2307 - acc: 0.9205 - val_loss: 0.3029 - val_acc: 0.8810\n",
      "Epoch 19/40\n",
      "15000/15000 [==============================] - 1s 66us/sample - loss: 0.2191 - acc: 0.9234 - val_loss: 0.2977 - val_acc: 0.8829\n",
      "Epoch 20/40\n",
      "15000/15000 [==============================] - 1s 58us/sample - loss: 0.2087 - acc: 0.9269 - val_loss: 0.2942 - val_acc: 0.8824\n",
      "Epoch 21/40\n",
      "15000/15000 [==============================] - 1s 57us/sample - loss: 0.1981 - acc: 0.9325 - val_loss: 0.2913 - val_acc: 0.8836\n",
      "Epoch 22/40\n",
      "15000/15000 [==============================] - 1s 59us/sample - loss: 0.1893 - acc: 0.9359 - val_loss: 0.2892 - val_acc: 0.8834\n",
      "Epoch 23/40\n",
      "15000/15000 [==============================] - 1s 56us/sample - loss: 0.1804 - acc: 0.9401 - val_loss: 0.2884 - val_acc: 0.8832\n",
      "Epoch 24/40\n",
      "15000/15000 [==============================] - 1s 51us/sample - loss: 0.1728 - acc: 0.9444 - val_loss: 0.2866 - val_acc: 0.8846\n",
      "Epoch 25/40\n",
      "15000/15000 [==============================] - 1s 53us/sample - loss: 0.1649 - acc: 0.9471 - val_loss: 0.2858 - val_acc: 0.8846\n",
      "Epoch 26/40\n",
      "15000/15000 [==============================] - 1s 54us/sample - loss: 0.1579 - acc: 0.9498 - val_loss: 0.2867 - val_acc: 0.8834\n",
      "Epoch 27/40\n",
      "15000/15000 [==============================] - 1s 54us/sample - loss: 0.1513 - acc: 0.9527 - val_loss: 0.2864 - val_acc: 0.8836\n",
      "Epoch 28/40\n",
      "15000/15000 [==============================] - 1s 55us/sample - loss: 0.1451 - acc: 0.9549 - val_loss: 0.2869 - val_acc: 0.8850\n",
      "Epoch 29/40\n",
      "15000/15000 [==============================] - 1s 54us/sample - loss: 0.1396 - acc: 0.9586 - val_loss: 0.2894 - val_acc: 0.8835\n",
      "Epoch 30/40\n",
      "15000/15000 [==============================] - 1s 64us/sample - loss: 0.1338 - acc: 0.9597 - val_loss: 0.2888 - val_acc: 0.8857\n",
      "Epoch 31/40\n",
      "15000/15000 [==============================] - 1s 59us/sample - loss: 0.1280 - acc: 0.9619 - val_loss: 0.2904 - val_acc: 0.8859\n",
      "Epoch 32/40\n",
      "15000/15000 [==============================] - 1s 54us/sample - loss: 0.1227 - acc: 0.9653 - val_loss: 0.2923 - val_acc: 0.8859\n",
      "Epoch 33/40\n",
      "15000/15000 [==============================] - 1s 53us/sample - loss: 0.1178 - acc: 0.9667 - val_loss: 0.2949 - val_acc: 0.8842\n",
      "Epoch 34/40\n",
      "15000/15000 [==============================] - 1s 54us/sample - loss: 0.1133 - acc: 0.9679 - val_loss: 0.2970 - val_acc: 0.8844\n",
      "Epoch 35/40\n",
      "15000/15000 [==============================] - 1s 54us/sample - loss: 0.1090 - acc: 0.9695 - val_loss: 0.3008 - val_acc: 0.8834\n",
      "Epoch 36/40\n",
      "15000/15000 [==============================] - 1s 54us/sample - loss: 0.1047 - acc: 0.9715 - val_loss: 0.3026 - val_acc: 0.8839\n",
      "Epoch 37/40\n",
      "15000/15000 [==============================] - 1s 59us/sample - loss: 0.1004 - acc: 0.9725 - val_loss: 0.3054 - val_acc: 0.8833\n",
      "Epoch 38/40\n",
      "15000/15000 [==============================] - 1s 54us/sample - loss: 0.0966 - acc: 0.9741 - val_loss: 0.3094 - val_acc: 0.8827\n",
      "Epoch 39/40\n",
      "15000/15000 [==============================] - 1s 52us/sample - loss: 0.0933 - acc: 0.9755 - val_loss: 0.3133 - val_acc: 0.8814\n",
      "Epoch 40/40\n",
      "15000/15000 [==============================] - 1s 59us/sample - loss: 0.0893 - acc: 0.9771 - val_loss: 0.3156 - val_acc: 0.8819\n"
     ]
    }
   ],
   "source": [
    "#训练模型\n",
    "history = model.fit(partial_x_train,\n",
    "                    partial_y_train,\n",
    "                    epochs=40,\n",
    "                    batch_size=512,\n",
    "                    validation_data=(x_val, y_val),\n",
    "                    verbose=1)"
   ]
  },
  {
   "cell_type": "code",
   "execution_count": 16,
   "metadata": {
    "ExecuteTime": {
     "end_time": "2019-05-12T12:46:49.177098Z",
     "start_time": "2019-05-12T12:46:48.508887Z"
    }
   },
   "outputs": [
    {
     "name": "stdout",
     "output_type": "stream",
     "text": [
      "25000/25000 [==============================] - 1s 26us/sample - loss: 0.3371 - acc: 0.8709\n",
      "[0.3370781668567657, 0.87092]\n"
     ]
    }
   ],
   "source": [
    "#使用测试集进行预测\n",
    "results = model.evaluate(test_data, test_labels)\n",
    "\n",
    "print(results)"
   ]
  }
 ],
 "metadata": {
  "kernelspec": {
   "display_name": "Python 3",
   "language": "python",
   "name": "python3"
  },
  "language_info": {
   "codemirror_mode": {
    "name": "ipython",
    "version": 3
   },
   "file_extension": ".py",
   "mimetype": "text/x-python",
   "name": "python",
   "nbconvert_exporter": "python",
   "pygments_lexer": "ipython3",
   "version": "3.7.0"
  },
  "toc": {
   "base_numbering": 1,
   "nav_menu": {},
   "number_sections": true,
   "sideBar": true,
   "skip_h1_title": false,
   "title_cell": "Table of Contents",
   "title_sidebar": "Contents",
   "toc_cell": false,
   "toc_position": {},
   "toc_section_display": true,
   "toc_window_display": false
  }
 },
 "nbformat": 4,
 "nbformat_minor": 2
}
