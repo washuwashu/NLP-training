{
 "cells": [
  {
   "cell_type": "markdown",
   "metadata": {},
   "source": [
    "神经网络基础参考吴恩达深度学习课程笔记  \n",
    "https://github.com/fengdu78/deeplearning_ai_books"
   ]
  },
  {
   "cell_type": "markdown",
   "metadata": {},
   "source": [
    "fasttext官方示例  \n",
    "文本分类"
   ]
  },
  {
   "cell_type": "code",
   "execution_count": null,
   "metadata": {},
   "outputs": [],
   "source": [
    "import fasttext as ft\n",
    "\n",
    "# First download the dbpedia.train using https://github.com/facebookresearch/fastText/blob/master/classification-example.sh\n",
    "# on test/ and move to the example directory\n",
    "input_file = 'dbpedia.train'\n",
    "output = '/tmp/classifier'\n",
    "test_file = 'test/classifier_test.txt'\n",
    "\n",
    "# set params\n",
    "dim=10\n",
    "lr=0.005\n",
    "epoch=1\n",
    "min_count=1\n",
    "word_ngrams=3\n",
    "bucket=2000000\n",
    "thread=4\n",
    "silent=1\n",
    "label_prefix='__label__'\n",
    "\n",
    "# Train the classifier\n",
    "classifier = ft.supervised(input_file, output, dim=dim, lr=lr, epoch=epoch,\n",
    "    min_count=min_count, word_ngrams=word_ngrams, bucket=bucket,\n",
    "    thread=thread, silent=silent, label_prefix=label_prefix)\n",
    "\n",
    "# Test the classifier\n",
    "result = classifier.test(test_file)\n",
    "print ('P@1:', result.precision)\n",
    "print ('R@1:', result.recall)\n",
    "print ('Number of examples:', result.nexamples)\n",
    "\n",
    "# Predict some text\n",
    "# (Example text is from dbpedia.train)\n",
    "texts = ['birchas chaim , yeshiva birchas chaim is a orthodox jewish mesivta \\\n",
    "        high school in lakewood township new jersey . it was founded by rabbi \\\n",
    "        shmuel zalmen stein in 2001 after his father rabbi chaim stein asked \\\n",
    "        him to open a branch of telshe yeshiva in lakewood . as of the 2009-10 \\\n",
    "        school year the school had an enrollment of 76 students and 6 . 6 \\\n",
    "        classroom teachers ( on a fte basis ) for a student–teacher ratio of \\\n",
    "        11 . 5 1 .']\n",
    "labels = classifier.predict(texts)\n",
    "print (labels)"
   ]
  },
  {
   "cell_type": "markdown",
   "metadata": {},
   "source": [
    "训练词向量"
   ]
  },
  {
   "cell_type": "code",
   "execution_count": null,
   "metadata": {},
   "outputs": [],
   "source": [
    "import fasttext\n",
    "\n",
    "INPUT_TXT = 'file.txt'\n",
    "OUTPUT_PATH_SKIPGRAM = '/tmp/skipgram'\n",
    "OUTPUT_PATH_CBOW = '/tmp/cbow'\n",
    "\n",
    "# Learn the word representation using skipgram model\n",
    "skipgram = fasttext.skipgram(INPUT_TXT, OUTPUT_PATH, lr=0.02, dim=300, ws=5,\n",
    "        epoch=1, min_count=5, neg=5, loss='ns', bucket=2000000, minn=3, maxn=6,\n",
    "        thread=4, t=1e-4, lr_update_rate=100)\n",
    "\n",
    "# Get the vector of some word\n",
    "print (skipgram['word'])\n",
    "\n",
    "# Learn the word representation using cbow model\n",
    "cbow = fasttext.cbow(INPUT_TXT, OUTPUT_PATH, lr=0.02, dim=300, ws=5,\n",
    "        epoch=1, min_count=5, neg=5, loss='ns', bucket=2000000, minn=3, maxn=6,\n",
    "        thread=4, t=1e-4, lr_update_rate=100)\n",
    "\n",
    "# Get the vector of some word\n",
    "print (cbow['word'])\n",
    "\n",
    "# Load pre-trained skipgram model\n",
    "SKIPGRAM_BIN = OUTPUT_PATH_SKIPGRAM + '.bin'\n",
    "skipgram = fasttext.load_model(SKIPGRAM_BIN)\n",
    "print (skipgram['word'])\n",
    "\n",
    "# Load pre-trained cbow model\n",
    "CBOW_BIN = OUTPUT_PATH_CBOW + '.bin'\n",
    "cbow = fasttext.load_model(CBOW_BIN)\n",
    "print (cbow['word'])"
   ]
  }
 ],
 "metadata": {
  "kernelspec": {
   "display_name": "Python 3",
   "language": "python",
   "name": "python3"
  },
  "language_info": {
   "codemirror_mode": {
    "name": "ipython",
    "version": 3
   },
   "file_extension": ".py",
   "mimetype": "text/x-python",
   "name": "python",
   "nbconvert_exporter": "python",
   "pygments_lexer": "ipython3",
   "version": "3.7.0"
  },
  "toc": {
   "base_numbering": 1,
   "nav_menu": {},
   "number_sections": true,
   "sideBar": true,
   "skip_h1_title": false,
   "title_cell": "Table of Contents",
   "title_sidebar": "Contents",
   "toc_cell": false,
   "toc_position": {},
   "toc_section_display": true,
   "toc_window_display": false
  }
 },
 "nbformat": 4,
 "nbformat_minor": 2
}
